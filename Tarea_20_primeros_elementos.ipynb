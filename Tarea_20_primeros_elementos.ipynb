{
  "nbformat": 4,
  "nbformat_minor": 0,
  "metadata": {
    "colab": {
      "provenance": [],
      "authorship_tag": "ABX9TyO4io59nXj4MRdW2glIDgWD",
      "include_colab_link": true
    },
    "kernelspec": {
      "name": "python3",
      "display_name": "Python 3"
    },
    "language_info": {
      "name": "python"
    }
  },
  "cells": [
    {
      "cell_type": "markdown",
      "metadata": {
        "id": "view-in-github",
        "colab_type": "text"
      },
      "source": [
        "<a href=\"https://colab.research.google.com/github/MariaMorales8/QM206m/blob/main/Tarea_20_primeros_elementos.ipynb\" target=\"_parent\"><img src=\"https://colab.research.google.com/assets/colab-badge.svg\" alt=\"Open In Colab\"/></a>"
      ]
    },
    {
      "cell_type": "code",
      "source": [
        "Tarea: 20 primeros elementos"
      ],
      "metadata": {
        "id": "STfqvzW3-Iob"
      },
      "execution_count": null,
      "outputs": []
    },
    {
      "cell_type": "markdown",
      "source": [],
      "metadata": {
        "id": "-NO8GKDy-ErH"
      }
    },
    {
      "cell_type": "code",
      "execution_count": 1,
      "metadata": {
        "colab": {
          "base_uri": "https://localhost:8080/"
        },
        "id": "GVqBiZhD9-Cb",
        "outputId": "f0b50d75-33cc-4437-a8e4-39a5ec125c2b"
      },
      "outputs": [
        {
          "output_type": "stream",
          "name": "stdout",
          "text": [
            "[{'simbolo': 'H', 'NA': 1, 'masa': 1.008}, {'simbolo': 'He', 'NA': 2, 'masa': 4.003}, {'simbolo': 'Li', 'NA': 3, 'masa': 6.491}, {'simbolo': 'Be', 'NA': 4, 'masa': 9.012}, {'simbolo': 'B', 'NA': 5, 'masa': 10.811}, {'simbolo': 'C', 'NA': 5, 'masa': 12.011}, {'simbolo': 'N', 'NA': 7, 'masa': 14.007}, {'simbolo': 'O', 'NA': 8, 'masa': 16.0}, {'simbolo': 'F', 'A': 9, 'masa': 18.998}, {'simbolo': 'Ne', 'NA': 10, 'masa': 20.18}, {'simbolo': 'Na', 'NA': 11, 'masa': 22.99}, {'simbolo': 'Mg', 'NA': 12, 'masa': 24.305}, {'simbolo': 'Al', 'NA': 13, 'masa': 26.982}, {'simbolo': 'Si', 'NA': 14, 'masa': 28.086}, {'simbolo': 'P', 'NA': 15, 'masa': 30.974}, {'simbolo': 'S', 'NA': 16, 'masa': 32.065}, {'simbolo': 'Cl', 'NA': 17, 'masa': 35.453}, {'simbolo': 'Ar', 'NA': 18, 'masa': 39.948}, {'simbolo': 'K', 'NA': 19, 'masa': 39.098}, {'simbolo': 'Ca', 'NA': 20, 'masa': 40.078}]\n"
          ]
        }
      ],
      "source": [
        "elementos=[]\n",
        "elem={\"simbolo\":\"H\",\"NA\":1,\"masa\":1.008}\n",
        "elementos.append(elem)\n",
        "elem={\"simbolo\":\"He\",\"NA\":2,\"masa\":4.003}\n",
        "elementos.append(elem)\n",
        "elem={\"simbolo\":\"Li\",\"NA\":3,\"masa\":6.491}\n",
        "elementos.append(elem)\n",
        "elem={\"simbolo\":\"Be\",\"NA\":4,\"masa\":9.012}\n",
        "elementos.append(elem)\n",
        "elem={\"simbolo\":\"B\",\"NA\":5,\"masa\":10.811}\n",
        "elementos.append(elem)\n",
        "elem={\"simbolo\":\"C\",\"NA\":5,\"masa\":12.011}\n",
        "elementos.append(elem)\n",
        "elem={\"simbolo\":\"N\",\"NA\":7,\"masa\":14.007}\n",
        "elementos.append(elem)\n",
        "elem={\"simbolo\":\"O\",\"NA\":8,\"masa\":16.00}\n",
        "elementos.append(elem)\n",
        "elem={\"simbolo\":\"F\",\"A\":9,\"masa\":18.998}\n",
        "elementos.append(elem)\n",
        "elem={\"simbolo\":\"Ne\",\"NA\":10,\"masa\":20.180}\n",
        "elementos.append(elem)\n",
        "elem={\"simbolo\":\"Na\",\"NA\":11,\"masa\":22.990}\n",
        "elementos.append(elem)\n",
        "elem={\"simbolo\":\"Mg\",\"NA\":12,\"masa\":24.305}\n",
        "elementos.append(elem)\n",
        "elem={\"simbolo\":\"Al\",\"NA\":13,\"masa\":26.982}\n",
        "elementos.append(elem)\n",
        "elem={\"simbolo\":\"Si\",\"NA\":14,\"masa\":28.086}\n",
        "elementos.append(elem)\n",
        "elem={\"simbolo\":\"P\",\"NA\":15,\"masa\":30.974}\n",
        "elementos.append(elem)\n",
        "elem={\"simbolo\":\"S\",\"NA\":16,\"masa\":32.065}\n",
        "elementos.append(elem)\n",
        "elem={\"simbolo\":\"Cl\",\"NA\":17,\"masa\":35.453}\n",
        "elementos.append(elem)\n",
        "elem={\"simbolo\":\"Ar\",\"NA\":18,\"masa\":39.948}\n",
        "elementos.append(elem)\n",
        "elem={\"simbolo\":\"K\",\"NA\":19,\"masa\":39.098}\n",
        "elementos.append(elem)\n",
        "elem={\"simbolo\":\"Ca\",\"NA\":20,\"masa\":40.078}\n",
        "elementos.append(elem)\n",
        "print(elementos)"
      ]
    }
  ]
}