{
  "nbformat": 4,
  "nbformat_minor": 0,
  "metadata": {
    "colab": {
      "provenance": [],
      "authorship_tag": "ABX9TyPYroo6l7o3gRH83brR1bpT",
      "include_colab_link": true
    },
    "kernelspec": {
      "name": "python3",
      "display_name": "Python 3"
    },
    "language_info": {
      "name": "python"
    }
  },
  "cells": [
    {
      "cell_type": "markdown",
      "metadata": {
        "id": "view-in-github",
        "colab_type": "text"
      },
      "source": [
        "<a href=\"https://colab.research.google.com/github/MariaMorales8/QM206m/blob/main/Parcial_Qu%C3%ADmica_computacional.ipynb\" target=\"_parent\"><img src=\"https://colab.research.google.com/assets/colab-badge.svg\" alt=\"Open In Colab\"/></a>"
      ]
    },
    {
      "cell_type": "code",
      "source": [
        "import numpy as np"
      ],
      "metadata": {
        "id": "0OpQ5T0Uc-1F"
      },
      "execution_count": 11,
      "outputs": []
    },
    {
      "cell_type": "markdown",
      "source": [
        "Funsión de Molaridad\n",
        "\n",
        "*   Calcule la molaridad del ZnCl2 en una disolución que contiene 0.175 moles de ZnCl2 en exactamente 150 mL de disolución.\n"
      ],
      "metadata": {
        "id": "rMBhKQsU9TkC"
      }
    },
    {
      "cell_type": "code",
      "source": [
        "def calcular_molaridad(moles, volumen_ml):\n",
        "    volumen_litros = volumen_ml / 1000\n",
        "    molaridad = moles / volumen_litros\n",
        "    return molaridad\n",
        "\n",
        "moles = 0.175\n",
        "volumen_ml = 150\n",
        "\n",
        "resultado = calcular_molaridad(moles, volumen_ml)\n",
        "print(\"La molaridad de la disolución de ZnCl2 es:\", resultado, \"M\")"
      ],
      "metadata": {
        "colab": {
          "base_uri": "https://localhost:8080/"
        },
        "id": "uvvLrVmIEb_K",
        "outputId": "8dd23732-2e47-463d-b46a-e3c2191fcc09"
      },
      "execution_count": 26,
      "outputs": [
        {
          "output_type": "stream",
          "name": "stdout",
          "text": [
            "La molaridad de la disolución de ZnCl2 es: 1.1666666666666667 M\n"
          ]
        }
      ]
    },
    {
      "cell_type": "markdown",
      "source": [
        "Función que calcule el pH de una solución de ácido fuerte\n",
        "*   Hallar el pH de una disolución 0.0167 M de ácido nítrico (HNO3)."
      ],
      "metadata": {
        "id": "_B6V42RUHLSz"
      }
    },
    {
      "cell_type": "code",
      "source": [
        "def calcular_ph(concentracion_hidrogeno):\n",
        "    return -np.log10(concentracion_hidrogeno)\n",
        "\n",
        "concentracion_hidrogeno = 0.0167\n",
        "\n",
        "resultado = calcular_ph(concentracion_hidrogeno)\n",
        "print(\"El pH de la disolución de HNO3 es:\", resultado)\n"
      ],
      "metadata": {
        "colab": {
          "base_uri": "https://localhost:8080/"
        },
        "id": "fsq2F2H0NgE8",
        "outputId": "b2def00d-e5cd-45c7-f49b-3f491d9541a2"
      },
      "execution_count": 24,
      "outputs": [
        {
          "output_type": "stream",
          "name": "stdout",
          "text": [
            "El pH de la disolución de HNO3 es:.3f 1.7772835288524167\n"
          ]
        }
      ]
    },
    {
      "cell_type": "markdown",
      "source": [
        "Función que calcule la masa molar de un gas ideal\n",
        "\n",
        "*  Se produce cierta reacción, produciendo un óxido de nitrógeno como gas. El gas tiene una masa de 1.211g  y ocupa un volumen de 677mL . La temperatura en el laboratorio es 23oC  y la presión del aire es 0.987atm . Calcular la masa molar del gas y deducir su fórmula. Supongamos que el gas es ideal.\n",
        "\n"
      ],
      "metadata": {
        "id": "a1c2HnyVS9X9"
      }
    },
    {
      "cell_type": "code",
      "source": [
        "def calcular_masa_molar(masa, volumen_ml, temperatura_c, presion_atm):\n",
        "\n",
        "    temperatura_k = temperatura_c + 273.15\n",
        "\n",
        "    volumen_l = volumen_ml / 1000\n",
        "    R = 0.0821\n",
        "\n",
        "    n = (presion_atm * volumen_l) / (R * temperatura_k)\n",
        "    masa_molar = masa / n\n",
        "    return masa_molar\n",
        "\n",
        "masa = 1.211\n",
        "volumen_ml = 677\n",
        "temperatura_c = 23\n",
        "presion_atm = 0.987\n",
        "\n",
        "masa_molar = calcular_masa_molar(masa, volumen_ml, temperatura_c, presion_atm)\n",
        "print(f\"La masa molar del gas es: {masa_molar:.3f} g/mol\")\n"
      ],
      "metadata": {
        "colab": {
          "base_uri": "https://localhost:8080/"
        },
        "id": "2hh7_EaaXFHy",
        "outputId": "3f8c323e-9bd1-464f-f27c-caea60d43f4a"
      },
      "execution_count": 23,
      "outputs": [
        {
          "output_type": "stream",
          "name": "stdout",
          "text": [
            "La masa molar del gas es: 44.065 g/mol\n"
          ]
        }
      ]
    },
    {
      "cell_type": "markdown",
      "source": [
        "Función que calcule las concentraciones del ácido y de la base conjugada para la preparación de un buffer\n",
        "*   Cuántos moles de NH4Cl deben añadirse a 2.0L de disolución acuosa 0.10 M en NH3 para preparar una disolución amortiguadora cuyo pH sea 9.00? (suponga que la adición de NH4Cl no modifica el volumen de la disolución)"
      ],
      "metadata": {
        "id": "XGS5haXNY-Rv"
      }
    },
    {
      "cell_type": "code",
      "source": [
        "def calcular_moles_NH4Cl(pH, pKa, concentracion_NH3, volumen_L):\n",
        "    log_ratio = pH - pKa\n",
        "    ratio = np.power(10, log_ratio)\n",
        "\n",
        "    concentracion_NH4 = concentracion_NH3 / ratio\n",
        "\n",
        "    moles_NH4Cl = concentracion_NH4 * volumen_L\n",
        "    return moles_NH4Cl\n",
        "\n",
        "pH = 9.00\n",
        "pKa = 9.25\n",
        "concentracion_NH3 = 0.10  # M\n",
        "volumen_L = 2.0  # L\n",
        "\n",
        "moles_NH4Cl = calcular_moles_NH4Cl(pH, pKa, concentracion_NH3, volumen_L)\n",
        "print(f\"Se deben añadir {moles_NH4Cl:.3f} moles de NH4Cl.\")"
      ],
      "metadata": {
        "colab": {
          "base_uri": "https://localhost:8080/"
        },
        "id": "KBHrAfVsY94f",
        "outputId": "0b493448-9024-47c6-e316-2c4ea026042d"
      },
      "execution_count": 16,
      "outputs": [
        {
          "output_type": "stream",
          "name": "stdout",
          "text": [
            "Se deben añadir 0.356 moles de NH4Cl.\n"
          ]
        }
      ]
    },
    {
      "cell_type": "markdown",
      "source": [
        "Función de la energía liberada en una reacción química\n",
        "\n",
        "La combustión del metano es una reacción exotérmica en la que el metano reacciona con oxígeno para formar dióxido de carbono y agua:\n",
        "\n",
        "   CH4(g)+2O2(g)→CO2(g)+2H2O(l)\n",
        "\n",
        "\n",
        "   Las entalpías estándar de formación (ΔH°f) de las sustancias involucradas son:\n",
        "   \n",
        "\n",
        "*  ΔH°f(CH4(g))=-74.8kJ/mol\n",
        "*  ΔH°f(O2(g))=0kJ/mol\n",
        "*  ΔH°f(CO2(g))=-393.5kJ/mol\n",
        "*  ΔH°f(H2O(l))=-241.8kJ/mol\n",
        "\n",
        "¿Cuánta energía se libera cuando se queman 2 moles de metano?"
      ],
      "metadata": {
        "id": "N0KmIgXrePmi"
      }
    },
    {
      "cell_type": "code",
      "source": [
        "def calcular_energia_libarada():\n",
        "    Hf_CH4 = -74.8\n",
        "    Hf_O2 = 0\n",
        "    Hf_CO2 = -393.5\n",
        "    Hf_H2O = -241.8\n",
        "\n",
        "    moles_metano = 2\n",
        "\n",
        "    delta_H_rxn = (Hf_CO2 + 2 * Hf_H2O) - (Hf_CH4 + 2 * Hf_O2)\n",
        "\n",
        "    energia_libarada = moles_metano * delta_H_rxn\n",
        "    return energia_libarada\n",
        "\n",
        "energia = calcular_energia_libarada()\n",
        "print(f\"La energía liberada al quemar 2 moles de metano es: {energia:.3f} kJ\")\n"
      ],
      "metadata": {
        "colab": {
          "base_uri": "https://localhost:8080/"
        },
        "id": "oVCqDkYulzOJ",
        "outputId": "806d78ff-68ff-460a-e742-0cf6a05ddb90"
      },
      "execution_count": 22,
      "outputs": [
        {
          "output_type": "stream",
          "name": "stdout",
          "text": [
            "La energía liberada al quemar 2 moles de metano es: -1604.600 kJ\n"
          ]
        }
      ]
    },
    {
      "cell_type": "markdown",
      "source": [
        "Función que calcule el rendimiento porcentual\n",
        "\n",
        "Se lleva a cabo la siguiente reacción:\n",
        "\n",
        "2 KCI + H2SO4 → K2SO4 + 2HCI\n",
        "\n",
        "utilizando 60 mL de H,SO, con una densidad de 1.8 g/mL.\n",
        "\n",
        "Calcule el porcentaje de rendimiento de la reaccion, si sólo se obtuvieron 20 g de HCl."
      ],
      "metadata": {
        "id": "NBzElW51mst1"
      }
    },
    {
      "cell_type": "code",
      "source": [
        "def calcular_porcentaje_rendimiento(volumen_H2SO4, densidad_H2SO4, masa_HCl_obtenida):\n",
        "    # Datos conocidos\n",
        "    masa_molar_H2SO4 = 98.08\n",
        "    masa_molar_HCl = 36.458\n",
        "    moles_H2SO4 = (volumen_H2SO4 * densidad_H2SO4) / masa_molar_H2SO4\n",
        "\n",
        "    moles_HCl_teoricos = moles_H2SO4 * 2\n",
        "\n",
        "    masa_HCl_teorica = moles_HCl_teoricos * masa_molar_HCl\n",
        "\n",
        "    porcentaje_rendimiento = (masa_HCl_obtenida / masa_HCl_teorica) * 100\n",
        "\n",
        "    return porcentaje_rendimiento\n",
        "\n",
        "volumen_H2SO4 = 60\n",
        "densidad_H2SO4 = 1.8\n",
        "masa_HCl_obtenida = 20\n",
        "\n",
        "porcentaje_rendimiento = calcular_porcentaje_rendimiento(volumen_H2SO4, densidad_H2SO4, masa_HCl_obtenida)\n",
        "print(f\"El porcentaje de rendimiento es: {porcentaje_rendimiento:.2f}%\")\n"
      ],
      "metadata": {
        "colab": {
          "base_uri": "https://localhost:8080/"
        },
        "id": "8ukZ3vnvp0Ql",
        "outputId": "e41cb1d6-f693-41ed-88f5-beecf1741270"
      },
      "execution_count": 20,
      "outputs": [
        {
          "output_type": "stream",
          "name": "stdout",
          "text": [
            "El porcentaje de rendimiento es: 24.91%\n"
          ]
        }
      ]
    },
    {
      "cell_type": "markdown",
      "source": [
        "Funsión para alcular el calor específico de un metal\n",
        "\n",
        "Un lingote de 0.050 kg de metal se calienta a 200.0 ° C y después se deja caer en un calorímetro que contiene 0.400 kg de agua inicialmente a 20.0 ° C. La temperatura de equilibrio final del sistema mezclado es 22.4 ° C. Encuentre el calor especifico del metal."
      ],
      "metadata": {
        "id": "C5jPFxoXrhpV"
      }
    },
    {
      "cell_type": "code",
      "source": [
        "def calcular_calor_especifico_metal(masa_metal, masa_agua, temperatura_inicial_metal, temperatura_inicial_agua, temperatura_final):\n",
        "    c_agua = 4.18\n",
        "    Q_agua = masa_agua * c_agua * (temperatura_final - temperatura_inicial_agua)\n",
        "    c_metal = Q_agua / (masa_metal * (temperatura_inicial_metal - temperatura_final))\n",
        "    c_metal_kg = c_metal * 1000\n",
        "    return c_metal_kg\n",
        "\n",
        "masa_metal = 50\n",
        "masa_agua = 400\n",
        "temperatura_inicial_metal = 200.0\n",
        "temperatura_inicial_agua = 20.0\n",
        "temperatura_final = 22.4\n",
        "\n",
        "calor_especifico_metal = calcular_calor_especifico_metal(masa_metal, masa_agua, temperatura_inicial_metal, temperatura_inicial_agua, temperatura_final)\n",
        "print(f\"El calor específico del metal es: {calor_especifico_metal:.2f} J/kg°C\")\n"
      ],
      "metadata": {
        "colab": {
          "base_uri": "https://localhost:8080/"
        },
        "id": "We4PQGrYzsVD",
        "outputId": "2db317ae-93f1-4b79-a4c7-d320cbeb710a"
      },
      "execution_count": 29,
      "outputs": [
        {
          "output_type": "stream",
          "name": "stdout",
          "text": [
            "El calor específico del metal es: 451.89 J/kg°C\n"
          ]
        }
      ]
    },
    {
      "cell_type": "markdown",
      "source": [
        "Funsión para calcular la presión osmótica a 25°C\n",
        "\n",
        "Determine el aumento de la presión osmótica de una solución que se\n",
        "prepara disolviendo 400 gramos de sacarosa (C12 H22 O11) en 1500 gramos\n",
        "de agua a la temperatura de 24 °C, cuya densidad es 1,5 g/ml."
      ],
      "metadata": {
        "id": "X2P1KQPZ0ei5"
      }
    },
    {
      "cell_type": "code",
      "source": [
        "def calcular_presion_osmotica(masa_sacarosa, masa_agua, densidad_agua, temperatura_C):\n",
        "    peso_molecular_sacarosa = 342\n",
        "    R = 0.0821\n",
        "\n",
        "    temperatura_K = temperatura_C + 273.15\n",
        "    moles_sacarosa = masa_sacarosa / peso_molecular_sacarosa\n",
        "    masa_total = masa_sacarosa + masa_agua\n",
        "    volumen_solucion = masa_total / densidad_agua / 1000\n",
        "    molaridad = moles_sacarosa / volumen_solucion\n",
        "    presion_osmotica = molaridad * R * temperatura_K\n",
        "\n",
        "    return presion_osmotica\n",
        "\n",
        "masa_sacarosa = 400\n",
        "masa_agua = 1500\n",
        "densidad_agua = 1.5\n",
        "temperatura_C = 24\n",
        "\n",
        "presion_osmotica = calcular_presion_osmotica(masa_sacarosa, masa_agua, densidad_agua, temperatura_C)\n",
        "print(f\"La presión osmótica de la solución es: {presion_osmotica:.2f} atm\")\n"
      ],
      "metadata": {
        "colab": {
          "base_uri": "https://localhost:8080/"
        },
        "id": "q4MOLfpD2OU0",
        "outputId": "d1fe35d4-1c5b-4f0d-aed4-1f3a071f1d5a"
      },
      "execution_count": 31,
      "outputs": [
        {
          "output_type": "stream",
          "name": "stdout",
          "text": [
            "La presión osmótica de la solución es: 22.53 atm\n"
          ]
        }
      ]
    },
    {
      "cell_type": "markdown",
      "source": [
        "Fusión para calcular el producto de solubilidad de una sal insoluble\n",
        "\n",
        "Al disolver en un litro de agua 2.0 x 10-4 moles de CaF2 se produce una disolusión salitrada. Cuál es la Kps del compuesto?"
      ],
      "metadata": {
        "id": "XWBv1-pW2iZ7"
      }
    },
    {
      "cell_type": "code",
      "source": [
        "moles_CaF2 = 2.0e-4\n",
        "\n",
        "concentracion_Ca2plus = moles_CaF2\n",
        "concentracion_F_minus = 2 * moles_CaF2\n",
        "\n",
        "Kps = concentracion_Ca2plus * (concentracion_F_minus ** 2)\n",
        "print(\"El valor de Kps es:\", Kps)\n"
      ],
      "metadata": {
        "colab": {
          "base_uri": "https://localhost:8080/"
        },
        "id": "36w9V_6i3RSu",
        "outputId": "8000be11-c0f9-462a-e4bf-d034806b4718"
      },
      "execution_count": 32,
      "outputs": [
        {
          "output_type": "stream",
          "name": "stdout",
          "text": [
            "El valor de Kps es: 3.2e-11\n"
          ]
        }
      ]
    },
    {
      "cell_type": "markdown",
      "source": [
        "Funsión con problema libre\n",
        "\n",
        "Se prepara una serie de soluciones disolviendo diferentes cantidades de glucosa (C6H12O6) en un litro de agua. La temperatura de la solución es constante a 25 °C. Las masas de glucosa disueltas son las siguientes: 50 g, 100 g, 150 g, 200 g, y 250 g. Calcule la presión osmótica de cada solución y grafique la relación entre la masa de glucosa y la presión osmótica."
      ],
      "metadata": {
        "id": "xQDltp5k3FtU"
      }
    },
    {
      "cell_type": "code",
      "source": [
        "import pandas as pd\n",
        "\n",
        "R = 0.0821\n",
        "temperatura_C = 25\n",
        "temperatura_K = temperatura_C + 273.15\n",
        "masa_molar_glucosa = 180\n",
        "\n",
        "masas_glucosa = [50, 100, 150, 200, 250]\n",
        "\n",
        "def calcular_presion_osmotica(masa, masa_molar, temperatura):\n",
        "    moles = masa / masa_molar\n",
        "    presion_osmotica = (moles * R * temperatura)\n",
        "    return presion_osmotica\n",
        "\n",
        "datos = []\n",
        "\n",
        "for masa in masas_glucosa:\n",
        "    presion = calcular_presion_osmotica(masa, masa_molar_glucosa, temperatura_K)\n",
        "    datos.append(['Glucosa', masa, temperatura_C, presion])\n",
        "\n",
        "df = pd.DataFrame(datos, columns=['Soluto', 'Masa (g)', 'Temperatura (°C)', 'Presión Osmótica (atm)'])\n",
        "\n",
        "print(df)\n",
        "\n",
        "import matplotlib.pyplot as plt\n",
        "\n",
        "plt.figure(figsize=(8, 5))\n",
        "plt.plot(df['Masa (g)'], df['Presión Osmótica (atm)'], marker='o', label='Glucosa')\n",
        "plt.xlabel('Masa de soluto disuelta (g)')\n",
        "plt.ylabel('Presión Osmótica (atm)')\n",
        "plt.title('Presión Osmótica en función de la Masa Disuelta de Glucosa')\n",
        "plt.legend()\n",
        "plt.grid(True)\n",
        "plt.show()\n"
      ],
      "metadata": {
        "colab": {
          "base_uri": "https://localhost:8080/",
          "height": 589
        },
        "id": "nou2vkBT9XfS",
        "outputId": "9dcfa295-9be5-4100-8676-1aa13dbcbac5"
      },
      "execution_count": 34,
      "outputs": [
        {
          "output_type": "stream",
          "name": "stdout",
          "text": [
            "    Soluto  Masa (g)  Temperatura (°C)  Presión Osmótica (atm)\n",
            "0  Glucosa        50                25                6.799476\n",
            "1  Glucosa       100                25               13.598953\n",
            "2  Glucosa       150                25               20.398429\n",
            "3  Glucosa       200                25               27.197906\n",
            "4  Glucosa       250                25               33.997382\n"
          ]
        },
        {
          "output_type": "display_data",
          "data": {
            "text/plain": [
              "<Figure size 800x500 with 1 Axes>"
            ],
            "image/png": "[encoded data removed]"
          },
          "metadata": {}
        }
      ]
    }
  ]
}